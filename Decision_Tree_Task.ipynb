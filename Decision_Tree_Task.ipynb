{
  "nbformat": 4,
  "nbformat_minor": 0,
  "metadata": {
    "colab": {
      "provenance": []
    },
    "kernelspec": {
      "name": "python3",
      "display_name": "Python 3"
    },
    "language_info": {
      "name": "python"
    }
  },
  "cells": [
    {
      "cell_type": "code",
      "execution_count": 1,
      "metadata": {
        "id": "e4G1fcBZOFk8"
      },
      "outputs": [],
      "source": [
        "import pandas as pd\n",
        "import numpy as np\n",
        "import seaborn as sns\n",
        "import matplotlib.pyplot as plt\n",
        "%matplotlib inline"
      ]
    },
    {
      "cell_type": "code",
      "source": [
        "from google.colab import files\n",
        "files.upload()"
      ],
      "metadata": {
        "colab": {
          "base_uri": "https://localhost:8080/",
          "height": 127
        },
        "id": "wt3O7XMEOcLP",
        "outputId": "e72bbabc-c20a-4fca-c0ad-4084434c8a20"
      },
      "execution_count": 2,
      "outputs": [
        {
          "output_type": "display_data",
          "data": {
            "text/plain": [
              "<IPython.core.display.HTML object>"
            ],
            "text/html": [
              "\n",
              "     <input type=\"file\" id=\"files-9a23c470-24cc-48c8-8be6-2b2c8c202001\" name=\"files[]\" multiple disabled\n",
              "        style=\"border:none\" />\n",
              "     <output id=\"result-9a23c470-24cc-48c8-8be6-2b2c8c202001\">\n",
              "      Upload widget is only available when the cell has been executed in the\n",
              "      current browser session. Please rerun this cell to enable.\n",
              "      </output>\n",
              "      <script>// Copyright 2017 Google LLC\n",
              "//\n",
              "// Licensed under the Apache License, Version 2.0 (the \"License\");\n",
              "// you may not use this file except in compliance with the License.\n",
              "// You may obtain a copy of the License at\n",
              "//\n",
              "//      http://www.apache.org/licenses/LICENSE-2.0\n",
              "//\n",
              "// Unless required by applicable law or agreed to in writing, software\n",
              "// distributed under the License is distributed on an \"AS IS\" BASIS,\n",
              "// WITHOUT WARRANTIES OR CONDITIONS OF ANY KIND, either express or implied.\n",
              "// See the License for the specific language governing permissions and\n",
              "// limitations under the License.\n",
              "\n",
              "/**\n",
              " * @fileoverview Helpers for google.colab Python module.\n",
              " */\n",
              "(function(scope) {\n",
              "function span(text, styleAttributes = {}) {\n",
              "  const element = document.createElement('span');\n",
              "  element.textContent = text;\n",
              "  for (const key of Object.keys(styleAttributes)) {\n",
              "    element.style[key] = styleAttributes[key];\n",
              "  }\n",
              "  return element;\n",
              "}\n",
              "\n",
              "// Max number of bytes which will be uploaded at a time.\n",
              "const MAX_PAYLOAD_SIZE = 100 * 1024;\n",
              "\n",
              "function _uploadFiles(inputId, outputId) {\n",
              "  const steps = uploadFilesStep(inputId, outputId);\n",
              "  const outputElement = document.getElementById(outputId);\n",
              "  // Cache steps on the outputElement to make it available for the next call\n",
              "  // to uploadFilesContinue from Python.\n",
              "  outputElement.steps = steps;\n",
              "\n",
              "  return _uploadFilesContinue(outputId);\n",
              "}\n",
              "\n",
              "// This is roughly an async generator (not supported in the browser yet),\n",
              "// where there are multiple asynchronous steps and the Python side is going\n",
              "// to poll for completion of each step.\n",
              "// This uses a Promise to block the python side on completion of each step,\n",
              "// then passes the result of the previous step as the input to the next step.\n",
              "function _uploadFilesContinue(outputId) {\n",
              "  const outputElement = document.getElementById(outputId);\n",
              "  const steps = outputElement.steps;\n",
              "\n",
              "  const next = steps.next(outputElement.lastPromiseValue);\n",
              "  return Promise.resolve(next.value.promise).then((value) => {\n",
              "    // Cache the last promise value to make it available to the next\n",
              "    // step of the generator.\n",
              "    outputElement.lastPromiseValue = value;\n",
              "    return next.value.response;\n",
              "  });\n",
              "}\n",
              "\n",
              "/**\n",
              " * Generator function which is called between each async step of the upload\n",
              " * process.\n",
              " * @param {string} inputId Element ID of the input file picker element.\n",
              " * @param {string} outputId Element ID of the output display.\n",
              " * @return {!Iterable<!Object>} Iterable of next steps.\n",
              " */\n",
              "function* uploadFilesStep(inputId, outputId) {\n",
              "  const inputElement = document.getElementById(inputId);\n",
              "  inputElement.disabled = false;\n",
              "\n",
              "  const outputElement = document.getElementById(outputId);\n",
              "  outputElement.innerHTML = '';\n",
              "\n",
              "  const pickedPromise = new Promise((resolve) => {\n",
              "    inputElement.addEventListener('change', (e) => {\n",
              "      resolve(e.target.files);\n",
              "    });\n",
              "  });\n",
              "\n",
              "  const cancel = document.createElement('button');\n",
              "  inputElement.parentElement.appendChild(cancel);\n",
              "  cancel.textContent = 'Cancel upload';\n",
              "  const cancelPromise = new Promise((resolve) => {\n",
              "    cancel.onclick = () => {\n",
              "      resolve(null);\n",
              "    };\n",
              "  });\n",
              "\n",
              "  // Wait for the user to pick the files.\n",
              "  const files = yield {\n",
              "    promise: Promise.race([pickedPromise, cancelPromise]),\n",
              "    response: {\n",
              "      action: 'starting',\n",
              "    }\n",
              "  };\n",
              "\n",
              "  cancel.remove();\n",
              "\n",
              "  // Disable the input element since further picks are not allowed.\n",
              "  inputElement.disabled = true;\n",
              "\n",
              "  if (!files) {\n",
              "    return {\n",
              "      response: {\n",
              "        action: 'complete',\n",
              "      }\n",
              "    };\n",
              "  }\n",
              "\n",
              "  for (const file of files) {\n",
              "    const li = document.createElement('li');\n",
              "    li.append(span(file.name, {fontWeight: 'bold'}));\n",
              "    li.append(span(\n",
              "        `(${file.type || 'n/a'}) - ${file.size} bytes, ` +\n",
              "        `last modified: ${\n",
              "            file.lastModifiedDate ? file.lastModifiedDate.toLocaleDateString() :\n",
              "                                    'n/a'} - `));\n",
              "    const percent = span('0% done');\n",
              "    li.appendChild(percent);\n",
              "\n",
              "    outputElement.appendChild(li);\n",
              "\n",
              "    const fileDataPromise = new Promise((resolve) => {\n",
              "      const reader = new FileReader();\n",
              "      reader.onload = (e) => {\n",
              "        resolve(e.target.result);\n",
              "      };\n",
              "      reader.readAsArrayBuffer(file);\n",
              "    });\n",
              "    // Wait for the data to be ready.\n",
              "    let fileData = yield {\n",
              "      promise: fileDataPromise,\n",
              "      response: {\n",
              "        action: 'continue',\n",
              "      }\n",
              "    };\n",
              "\n",
              "    // Use a chunked sending to avoid message size limits. See b/62115660.\n",
              "    let position = 0;\n",
              "    do {\n",
              "      const length = Math.min(fileData.byteLength - position, MAX_PAYLOAD_SIZE);\n",
              "      const chunk = new Uint8Array(fileData, position, length);\n",
              "      position += length;\n",
              "\n",
              "      const base64 = btoa(String.fromCharCode.apply(null, chunk));\n",
              "      yield {\n",
              "        response: {\n",
              "          action: 'append',\n",
              "          file: file.name,\n",
              "          data: base64,\n",
              "        },\n",
              "      };\n",
              "\n",
              "      let percentDone = fileData.byteLength === 0 ?\n",
              "          100 :\n",
              "          Math.round((position / fileData.byteLength) * 100);\n",
              "      percent.textContent = `${percentDone}% done`;\n",
              "\n",
              "    } while (position < fileData.byteLength);\n",
              "  }\n",
              "\n",
              "  // All done.\n",
              "  yield {\n",
              "    response: {\n",
              "      action: 'complete',\n",
              "    }\n",
              "  };\n",
              "}\n",
              "\n",
              "scope.google = scope.google || {};\n",
              "scope.google.colab = scope.google.colab || {};\n",
              "scope.google.colab._files = {\n",
              "  _uploadFiles,\n",
              "  _uploadFilesContinue,\n",
              "};\n",
              "})(self);\n",
              "</script> "
            ]
          },
          "metadata": {}
        },
        {
          "output_type": "stream",
          "name": "stdout",
          "text": [
            "Saving drug200-HDG.csv to drug200-HDG.csv\n"
          ]
        },
        {
          "output_type": "execute_result",
          "data": {
            "text/plain": [
              "{'drug200-HDG.csv': b'Age,Sex,BP,Cholesterol,Na_to_K,Drug\\r23,F,HIGH,HIGH,25.355,drugY\\r47,M,LOW,HIGH,13.093,drugC\\r47,M,LOW,HIGH,10.114,drugC\\r28,F,NORMAL,HIGH,7.798,drugX\\r61,F,LOW,HIGH,18.043,drugY\\r22,F,NORMAL,HIGH,8.607,drugX\\r49,F,NORMAL,HIGH,16.275,drugY\\r41,M,LOW,HIGH,11.037,drugC\\r60,M,NORMAL,HIGH,15.171,drugY\\r43,M,LOW,NORMAL,19.368,drugY\\r47,F,LOW,HIGH,11.767,drugC\\r34,F,HIGH,NORMAL,19.199,drugY\\r43,M,LOW,HIGH,15.376,drugY\\r74,F,LOW,HIGH,20.942,drugY\\r50,F,NORMAL,HIGH,12.703,drugX\\r16,F,HIGH,NORMAL,15.516,drugY\\r69,M,LOW,NORMAL,11.455,drugX\\r43,M,HIGH,HIGH,13.972,drugA\\r23,M,LOW,HIGH,7.298,drugC\\r32,F,HIGH,NORMAL,25.974,drugY\\r57,M,LOW,NORMAL,19.128,drugY\\r63,M,NORMAL,HIGH,25.917,drugY\\r47,M,LOW,NORMAL,30.568,drugY\\r48,F,LOW,HIGH,15.036,drugY\\r33,F,LOW,HIGH,33.486,drugY\\r28,F,HIGH,NORMAL,18.809,drugY\\r31,M,HIGH,HIGH,30.366,drugY\\r49,F,NORMAL,NORMAL,9.381,drugX\\r39,F,LOW,NORMAL,22.697,drugY\\r45,M,LOW,HIGH,17.951,drugY\\r18,F,NORMAL,NORMAL,8.75,drugX\\r74,M,HIGH,HIGH,9.567,drugB\\r49,M,LOW,NORMAL,11.014,drugX\\r65,F,HIGH,NORMAL,31.876,drugY\\r53,M,NORMAL,HIGH,14.133,drugX\\r46,M,NORMAL,NORMAL,7.285,drugX\\r32,M,HIGH,NORMAL,9.445,drugA\\r39,M,LOW,NORMAL,13.938,drugX\\r39,F,NORMAL,NORMAL,9.709,drugX\\r15,M,NORMAL,HIGH,9.084,drugX\\r73,F,NORMAL,HIGH,19.221,drugY\\r58,F,HIGH,NORMAL,14.239,drugB\\r50,M,NORMAL,NORMAL,15.79,drugY\\r23,M,NORMAL,HIGH,12.26,drugX\\r50,F,NORMAL,NORMAL,12.295,drugX\\r66,F,NORMAL,NORMAL,8.107,drugX\\r37,F,HIGH,HIGH,13.091,drugA\\r68,M,LOW,HIGH,10.291,drugC\\r23,M,NORMAL,HIGH,31.686,drugY\\r28,F,LOW,HIGH,19.796,drugY\\r58,F,HIGH,HIGH,19.416,drugY\\r67,M,NORMAL,NORMAL,10.898,drugX\\r62,M,LOW,NORMAL,27.183,drugY\\r24,F,HIGH,NORMAL,18.457,drugY\\r68,F,HIGH,NORMAL,10.189,drugB\\r26,F,LOW,HIGH,14.16,drugC\\r65,M,HIGH,NORMAL,11.34,drugB\\r40,M,HIGH,HIGH,27.826,drugY\\r60,M,NORMAL,NORMAL,10.091,drugX\\r34,M,HIGH,HIGH,18.703,drugY\\r38,F,LOW,NORMAL,29.875,drugY\\r24,M,HIGH,NORMAL,9.475,drugA\\r67,M,LOW,NORMAL,20.693,drugY\\r45,M,LOW,NORMAL,8.37,drugX\\r60,F,HIGH,HIGH,13.303,drugB\\r68,F,NORMAL,NORMAL,27.05,drugY\\r29,M,HIGH,HIGH,12.856,drugA\\r17,M,NORMAL,NORMAL,10.832,drugX\\r54,M,NORMAL,HIGH,24.658,drugY\\r18,F,HIGH,NORMAL,24.276,drugY\\r70,M,HIGH,HIGH,13.967,drugB\\r28,F,NORMAL,HIGH,19.675,drugY\\r24,F,NORMAL,HIGH,10.605,drugX\\r41,F,NORMAL,NORMAL,22.905,drugY\\r31,M,HIGH,NORMAL,17.069,drugY\\r26,M,LOW,NORMAL,20.909,drugY\\r36,F,HIGH,HIGH,11.198,drugA\\r26,F,HIGH,NORMAL,19.161,drugY\\r19,F,HIGH,HIGH,13.313,drugA\\r32,F,LOW,NORMAL,10.84,drugX\\r60,M,HIGH,HIGH,13.934,drugB\\r64,M,NORMAL,HIGH,7.761,drugX\\r32,F,LOW,HIGH,9.712,drugC\\r38,F,HIGH,NORMAL,11.326,drugA\\r47,F,LOW,HIGH,10.067,drugC\\r59,M,HIGH,HIGH,13.935,drugB\\r51,F,NORMAL,HIGH,13.597,drugX\\r69,M,LOW,HIGH,15.478,drugY\\r37,F,HIGH,NORMAL,23.091,drugY\\r50,F,NORMAL,NORMAL,17.211,drugY\\r62,M,NORMAL,HIGH,16.594,drugY\\r41,M,HIGH,NORMAL,15.156,drugY\\r29,F,HIGH,HIGH,29.45,drugY\\r42,F,LOW,NORMAL,29.271,drugY\\r56,M,LOW,HIGH,15.015,drugY\\r36,M,LOW,NORMAL,11.424,drugX\\r58,F,LOW,HIGH,38.247,drugY\\r56,F,HIGH,HIGH,25.395,drugY\\r20,M,HIGH,NORMAL,35.639,drugY\\r15,F,HIGH,NORMAL,16.725,drugY\\r31,M,HIGH,NORMAL,11.871,drugA\\r45,F,HIGH,HIGH,12.854,drugA\\r28,F,LOW,HIGH,13.127,drugC\\r56,M,NORMAL,HIGH,8.966,drugX\\r22,M,HIGH,NORMAL,28.294,drugY\\r37,M,LOW,NORMAL,8.968,drugX\\r22,M,NORMAL,HIGH,11.953,drugX\\r42,M,LOW,HIGH,20.013,drugY\\r72,M,HIGH,NORMAL,9.677,drugB\\r23,M,NORMAL,HIGH,16.85,drugY\\r50,M,HIGH,HIGH,7.49,drugA\\r47,F,NORMAL,NORMAL,6.683,drugX\\r35,M,LOW,NORMAL,9.17,drugX\\r65,F,LOW,NORMAL,13.769,drugX\\r20,F,NORMAL,NORMAL,9.281,drugX\\r51,M,HIGH,HIGH,18.295,drugY\\r67,M,NORMAL,NORMAL,9.514,drugX\\r40,F,NORMAL,HIGH,10.103,drugX\\r32,F,HIGH,NORMAL,10.292,drugA\\r61,F,HIGH,HIGH,25.475,drugY\\r28,M,NORMAL,HIGH,27.064,drugY\\r15,M,HIGH,NORMAL,17.206,drugY\\r34,M,NORMAL,HIGH,22.456,drugY\\r36,F,NORMAL,HIGH,16.753,drugY\\r53,F,HIGH,NORMAL,12.495,drugB\\r19,F,HIGH,NORMAL,25.969,drugY\\r66,M,HIGH,HIGH,16.347,drugY\\r35,M,NORMAL,NORMAL,7.845,drugX\\r47,M,LOW,NORMAL,33.542,drugY\\r32,F,NORMAL,HIGH,7.477,drugX\\r70,F,NORMAL,HIGH,20.489,drugY\\r52,M,LOW,NORMAL,32.922,drugY\\r49,M,LOW,NORMAL,13.598,drugX\\r24,M,NORMAL,HIGH,25.786,drugY\\r42,F,HIGH,HIGH,21.036,drugY\\r74,M,LOW,NORMAL,11.939,drugX\\r55,F,HIGH,HIGH,10.977,drugB\\r35,F,HIGH,HIGH,12.894,drugA\\r51,M,HIGH,NORMAL,11.343,drugB\\r69,F,NORMAL,HIGH,10.065,drugX\\r49,M,HIGH,NORMAL,6.269,drugA\\r64,F,LOW,NORMAL,25.741,drugY\\r60,M,HIGH,NORMAL,8.621,drugB\\r74,M,HIGH,NORMAL,15.436,drugY\\r39,M,HIGH,HIGH,9.664,drugA\\r61,M,NORMAL,HIGH,9.443,drugX\\r37,F,LOW,NORMAL,12.006,drugX\\r26,F,HIGH,NORMAL,12.307,drugA\\r61,F,LOW,NORMAL,7.34,drugX\\r22,M,LOW,HIGH,8.151,drugC\\r49,M,HIGH,NORMAL,8.7,drugA\\r68,M,HIGH,HIGH,11.009,drugB\\r55,M,NORMAL,NORMAL,7.261,drugX\\r72,F,LOW,NORMAL,14.642,drugX\\r37,M,LOW,NORMAL,16.724,drugY\\r49,M,LOW,HIGH,10.537,drugC\\r31,M,HIGH,NORMAL,11.227,drugA\\r53,M,LOW,HIGH,22.963,drugY\\r59,F,LOW,HIGH,10.444,drugC\\r34,F,LOW,NORMAL,12.923,drugX\\r30,F,NORMAL,HIGH,10.443,drugX\\r57,F,HIGH,NORMAL,9.945,drugB\\r43,M,NORMAL,NORMAL,12.859,drugX\\r21,F,HIGH,NORMAL,28.632,drugY\\r16,M,HIGH,NORMAL,19.007,drugY\\r38,M,LOW,HIGH,18.295,drugY\\r58,F,LOW,HIGH,26.645,drugY\\r57,F,NORMAL,HIGH,14.216,drugX\\r51,F,LOW,NORMAL,23.003,drugY\\r20,F,HIGH,HIGH,11.262,drugA\\r28,F,NORMAL,HIGH,12.879,drugX\\r45,M,LOW,NORMAL,10.017,drugX\\r39,F,NORMAL,NORMAL,17.225,drugY\\r41,F,LOW,NORMAL,18.739,drugY\\r42,M,HIGH,NORMAL,12.766,drugA\\r73,F,HIGH,HIGH,18.348,drugY\\r48,M,HIGH,NORMAL,10.446,drugA\\r25,M,NORMAL,HIGH,19.011,drugY\\r39,M,NORMAL,HIGH,15.969,drugY\\r67,F,NORMAL,HIGH,15.891,drugY\\r22,F,HIGH,NORMAL,22.818,drugY\\r59,F,NORMAL,HIGH,13.884,drugX\\r20,F,LOW,NORMAL,11.686,drugX\\r36,F,HIGH,NORMAL,15.49,drugY\\r18,F,HIGH,HIGH,37.188,drugY\\r57,F,NORMAL,NORMAL,25.893,drugY\\r70,M,HIGH,HIGH,9.849,drugB\\r47,M,HIGH,HIGH,10.403,drugA\\r65,M,HIGH,NORMAL,34.997,drugY\\r64,M,HIGH,NORMAL,20.932,drugY\\r58,M,HIGH,HIGH,18.991,drugY\\r23,M,HIGH,HIGH,8.011,drugA\\r72,M,LOW,HIGH,16.31,drugY\\r72,M,LOW,HIGH,6.769,drugC\\r46,F,HIGH,HIGH,34.686,drugY\\r56,F,LOW,HIGH,11.567,drugC\\r16,M,LOW,HIGH,12.006,drugC\\r52,M,NORMAL,HIGH,9.894,drugX\\r23,M,NORMAL,NORMAL,14.02,drugX\\r40,F,LOW,NORMAL,11.349,drugX\\r\\n'}"
            ]
          },
          "metadata": {},
          "execution_count": 2
        }
      ]
    },
    {
      "cell_type": "code",
      "source": [
        "df = pd.read_csv('drug200-HDG.csv')\n",
        "print(df)"
      ],
      "metadata": {
        "colab": {
          "base_uri": "https://localhost:8080/"
        },
        "id": "9iN0p6kPOcSD",
        "outputId": "27dc2c02-e6ee-4c7e-eb0f-e6bcc12dc35b"
      },
      "execution_count": 3,
      "outputs": [
        {
          "output_type": "stream",
          "name": "stdout",
          "text": [
            "     Age Sex      BP Cholesterol  Na_to_K   Drug\n",
            "0     23   F    HIGH        HIGH   25.355  drugY\n",
            "1     47   M     LOW        HIGH   13.093  drugC\n",
            "2     47   M     LOW        HIGH   10.114  drugC\n",
            "3     28   F  NORMAL        HIGH    7.798  drugX\n",
            "4     61   F     LOW        HIGH   18.043  drugY\n",
            "..   ...  ..     ...         ...      ...    ...\n",
            "195   56   F     LOW        HIGH   11.567  drugC\n",
            "196   16   M     LOW        HIGH   12.006  drugC\n",
            "197   52   M  NORMAL        HIGH    9.894  drugX\n",
            "198   23   M  NORMAL      NORMAL   14.020  drugX\n",
            "199   40   F     LOW      NORMAL   11.349  drugX\n",
            "\n",
            "[200 rows x 6 columns]\n"
          ]
        }
      ]
    },
    {
      "cell_type": "code",
      "source": [
        "col_names = ['Age','Sex','BP','Cholesterol','Na_to_K','Drug']\n",
        "for col in col_names:\n",
        "  print(df[col].value_counts())"
      ],
      "metadata": {
        "colab": {
          "base_uri": "https://localhost:8080/"
        },
        "id": "978gu7rJPHEc",
        "outputId": "3c25b579-70f9-4710-a899-81f991dc87bc"
      },
      "execution_count": 4,
      "outputs": [
        {
          "output_type": "stream",
          "name": "stdout",
          "text": [
            "47    8\n",
            "23    7\n",
            "28    7\n",
            "49    7\n",
            "39    6\n",
            "32    6\n",
            "50    5\n",
            "37    5\n",
            "58    5\n",
            "60    5\n",
            "22    5\n",
            "34    4\n",
            "72    4\n",
            "51    4\n",
            "42    4\n",
            "26    4\n",
            "24    4\n",
            "74    4\n",
            "67    4\n",
            "68    4\n",
            "61    4\n",
            "56    4\n",
            "20    4\n",
            "36    4\n",
            "45    4\n",
            "41    4\n",
            "31    4\n",
            "43    4\n",
            "65    4\n",
            "57    4\n",
            "53    3\n",
            "40    3\n",
            "70    3\n",
            "59    3\n",
            "16    3\n",
            "38    3\n",
            "15    3\n",
            "69    3\n",
            "35    3\n",
            "18    3\n",
            "64    3\n",
            "52    2\n",
            "55    2\n",
            "62    2\n",
            "19    2\n",
            "29    2\n",
            "66    2\n",
            "73    2\n",
            "46    2\n",
            "48    2\n",
            "54    1\n",
            "17    1\n",
            "33    1\n",
            "63    1\n",
            "30    1\n",
            "21    1\n",
            "25    1\n",
            "Name: Age, dtype: int64\n",
            "M    104\n",
            "F     96\n",
            "Name: Sex, dtype: int64\n",
            "HIGH      77\n",
            "LOW       64\n",
            "NORMAL    59\n",
            "Name: BP, dtype: int64\n",
            "HIGH      103\n",
            "NORMAL     97\n",
            "Name: Cholesterol, dtype: int64\n",
            "12.006    2\n",
            "18.295    2\n",
            "25.355    1\n",
            "11.939    1\n",
            "16.347    1\n",
            "         ..\n",
            "24.658    1\n",
            "24.276    1\n",
            "13.967    1\n",
            "19.675    1\n",
            "11.349    1\n",
            "Name: Na_to_K, Length: 198, dtype: int64\n",
            "drugY    91\n",
            "drugX    54\n",
            "drugA    23\n",
            "drugC    16\n",
            "drugB    16\n",
            "Name: Drug, dtype: int64\n"
          ]
        }
      ]
    },
    {
      "cell_type": "code",
      "source": [
        "df.isnull().sum()"
      ],
      "metadata": {
        "colab": {
          "base_uri": "https://localhost:8080/"
        },
        "id": "hsWSReL6PJzB",
        "outputId": "78bd9ec0-a859-420a-a63f-b710b95a0420"
      },
      "execution_count": 5,
      "outputs": [
        {
          "output_type": "execute_result",
          "data": {
            "text/plain": [
              "Age            0\n",
              "Sex            0\n",
              "BP             0\n",
              "Cholesterol    0\n",
              "Na_to_K        0\n",
              "Drug           0\n",
              "dtype: int64"
            ]
          },
          "metadata": {},
          "execution_count": 5
        }
      ]
    },
    {
      "cell_type": "code",
      "source": [
        "from sklearn import preprocessing\n",
        "le_ck=preprocessing.LabelEncoder()\n",
        "le_ck.fit(['F','M'])\n",
        "df['Sex']=le_ck.transform(df['Sex'])\n",
        "\n",
        "le_ut=preprocessing.LabelEncoder()\n",
        "le_ut.fit(['HIGH','LOW','NORMAL'])\n",
        "df['BP']=le_ut.transform(df['BP'])\n",
        "\n",
        "le_ja=preprocessing.LabelEncoder()\n",
        "le_ja.fit(['HIGH','NORMAL'])\n",
        "df['Cholesterol']=le_ut.transform(df['Cholesterol'])\n",
        "print(df)"
      ],
      "metadata": {
        "colab": {
          "base_uri": "https://localhost:8080/"
        },
        "id": "OkYuocnoPMzh",
        "outputId": "c05b7348-dcaf-460c-c97f-79ea12f28f43"
      },
      "execution_count": 6,
      "outputs": [
        {
          "output_type": "stream",
          "name": "stdout",
          "text": [
            "     Age  Sex  BP  Cholesterol  Na_to_K   Drug\n",
            "0     23    0   0            0   25.355  drugY\n",
            "1     47    1   1            0   13.093  drugC\n",
            "2     47    1   1            0   10.114  drugC\n",
            "3     28    0   2            0    7.798  drugX\n",
            "4     61    0   1            0   18.043  drugY\n",
            "..   ...  ...  ..          ...      ...    ...\n",
            "195   56    0   1            0   11.567  drugC\n",
            "196   16    1   1            0   12.006  drugC\n",
            "197   52    1   2            0    9.894  drugX\n",
            "198   23    1   2            2   14.020  drugX\n",
            "199   40    0   1            2   11.349  drugX\n",
            "\n",
            "[200 rows x 6 columns]\n"
          ]
        }
      ]
    },
    {
      "cell_type": "code",
      "source": [
        "X=df.drop(['Drug'],axis=1)\n",
        "y=df['Drug']\n",
        "\n",
        "from sklearn.model_selection import train_test_split\n",
        "X_train , X_test, y_train , y_test = train_test_split(X , y, test_size=0.15 , random_state = 42)\n",
        "X_train.shape, X_test.shape"
      ],
      "metadata": {
        "colab": {
          "base_uri": "https://localhost:8080/"
        },
        "id": "05qICBOKPPKg",
        "outputId": "461af5f0-615d-46e1-ab89-9c709ea59a76"
      },
      "execution_count": 8,
      "outputs": [
        {
          "output_type": "execute_result",
          "data": {
            "text/plain": [
              "((170, 5), (30, 5))"
            ]
          },
          "metadata": {},
          "execution_count": 8
        }
      ]
    },
    {
      "cell_type": "code",
      "source": [
        "from sklearn.tree import DecisionTreeClassifier\n",
        "Tree=DecisionTreeClassifier(criterion='entropy')\n",
        "Tree.fit(X_train,y_train)\n",
        "\n",
        "predTree_train=Tree.predict(X_train)\n",
        "hasil_train=pd.DataFrame ({'Predicted_risk':predTree_train,'Actual_risk':y_train})\n",
        "print(hasil_train)\n",
        "\n",
        "predTree_test=Tree.predict(X_test)\n",
        "hasil_test=pd.DataFrame ({'Predicted_risk':predTree_test,'Actual_risk':y_test})\n",
        "print(hasil_train)"
      ],
      "metadata": {
        "id": "25XJwLqaPT79",
        "outputId": "20ce644b-2a7b-479e-a5d9-da2e31bc2823",
        "colab": {
          "base_uri": "https://localhost:8080/"
        }
      },
      "execution_count": 9,
      "outputs": [
        {
          "output_type": "stream",
          "name": "stdout",
          "text": [
            "    Predicted_risk Actual_risk\n",
            "9            drugY       drugY\n",
            "18           drugC       drugC\n",
            "55           drugC       drugC\n",
            "75           drugY       drugY\n",
            "150          drugA       drugA\n",
            "..             ...         ...\n",
            "106          drugX       drugX\n",
            "14           drugX       drugX\n",
            "92           drugY       drugY\n",
            "179          drugY       drugY\n",
            "102          drugC       drugC\n",
            "\n",
            "[170 rows x 2 columns]\n",
            "    Predicted_risk Actual_risk\n",
            "9            drugY       drugY\n",
            "18           drugC       drugC\n",
            "55           drugC       drugC\n",
            "75           drugY       drugY\n",
            "150          drugA       drugA\n",
            "..             ...         ...\n",
            "106          drugX       drugX\n",
            "14           drugX       drugX\n",
            "92           drugY       drugY\n",
            "179          drugY       drugY\n",
            "102          drugC       drugC\n",
            "\n",
            "[170 rows x 2 columns]\n"
          ]
        }
      ]
    },
    {
      "cell_type": "code",
      "source": [
        "from sklearn import tree\n",
        "import graphviz\n",
        "dot_data = tree.export_graphviz(Tree,out_file=None,feature_names=X_train.columns,class_names=np.unique(y_train),filled=True,rounded=True,special_characters=True)\n",
        "graph=graphviz.Source(dot_data)\n",
        "graph"
      ],
      "metadata": {
        "id": "ijUNcz4UPWN9",
        "outputId": "ea3d73ab-67a5-4626-e610-c33411312c9b",
        "colab": {
          "base_uri": "https://localhost:8080/",
          "height": 757
        }
      },
      "execution_count": 10,
      "outputs": [
        {
          "output_type": "execute_result",
          "data": {
            "text/plain": [
              "<graphviz.files.Source at 0x7fc348377d90>"
            ],
            "image/svg+xml": "<?xml version=\"1.0\" encoding=\"UTF-8\" standalone=\"no\"?>\n<!DOCTYPE svg PUBLIC \"-//W3C//DTD SVG 1.1//EN\"\n \"http://www.w3.org/Graphics/SVG/1.1/DTD/svg11.dtd\">\n<!-- Generated by graphviz version 2.40.1 (20161225.0304)\n -->\n<!-- Title: Tree Pages: 1 -->\n<svg width=\"692pt\" height=\"552pt\"\n viewBox=\"0.00 0.00 692.00 552.00\" xmlns=\"http://www.w3.org/2000/svg\" xmlns:xlink=\"http://www.w3.org/1999/xlink\">\n<g id=\"graph0\" class=\"graph\" transform=\"scale(1 1) rotate(0) translate(4 548)\">\n<title>Tree</title>\n<polygon fill=\"#ffffff\" stroke=\"transparent\" points=\"-4,4 -4,-548 688,-548 688,4 -4,4\"/>\n<!-- 0 -->\n<g id=\"node1\" class=\"node\">\n<title>0</title>\n<path fill=\"#f8c6ed\" stroke=\"#000000\" d=\"M513.5,-544C513.5,-544 349.5,-544 349.5,-544 343.5,-544 337.5,-538 337.5,-532 337.5,-532 337.5,-473 337.5,-473 337.5,-467 343.5,-461 349.5,-461 349.5,-461 513.5,-461 513.5,-461 519.5,-461 525.5,-467 525.5,-473 525.5,-473 525.5,-532 525.5,-532 525.5,-538 519.5,-544 513.5,-544\"/>\n<text text-anchor=\"start\" x=\"372.5\" y=\"-528.8\" font-family=\"Helvetica,sans-Serif\" font-size=\"14.00\" fill=\"#000000\">Na_to_K ≤ 14.829</text>\n<text text-anchor=\"start\" x=\"380.5\" y=\"-513.8\" font-family=\"Helvetica,sans-Serif\" font-size=\"14.00\" fill=\"#000000\">entropy = 1.947</text>\n<text text-anchor=\"start\" x=\"383.5\" y=\"-498.8\" font-family=\"Helvetica,sans-Serif\" font-size=\"14.00\" fill=\"#000000\">samples = 170</text>\n<text text-anchor=\"start\" x=\"345.5\" y=\"-483.8\" font-family=\"Helvetica,sans-Serif\" font-size=\"14.00\" fill=\"#000000\">value = [20, 13, 13, 44, 80]</text>\n<text text-anchor=\"start\" x=\"387\" y=\"-468.8\" font-family=\"Helvetica,sans-Serif\" font-size=\"14.00\" fill=\"#000000\">class = drugY</text>\n</g>\n<!-- 1 -->\n<g id=\"node2\" class=\"node\">\n<title>1</title>\n<path fill=\"#bcbbf6\" stroke=\"#000000\" d=\"M417,-425C417,-425 262,-425 262,-425 256,-425 250,-419 250,-413 250,-413 250,-354 250,-354 250,-348 256,-342 262,-342 262,-342 417,-342 417,-342 423,-342 429,-348 429,-354 429,-354 429,-413 429,-413 429,-419 423,-425 417,-425\"/>\n<text text-anchor=\"start\" x=\"312\" y=\"-409.8\" font-family=\"Helvetica,sans-Serif\" font-size=\"14.00\" fill=\"#000000\">BP ≤ 0.5</text>\n<text text-anchor=\"start\" x=\"288.5\" y=\"-394.8\" font-family=\"Helvetica,sans-Serif\" font-size=\"14.00\" fill=\"#000000\">entropy = 1.793</text>\n<text text-anchor=\"start\" x=\"295.5\" y=\"-379.8\" font-family=\"Helvetica,sans-Serif\" font-size=\"14.00\" fill=\"#000000\">samples = 90</text>\n<text text-anchor=\"start\" x=\"258\" y=\"-364.8\" font-family=\"Helvetica,sans-Serif\" font-size=\"14.00\" fill=\"#000000\">value = [20, 13, 13, 44, 0]</text>\n<text text-anchor=\"start\" x=\"295\" y=\"-349.8\" font-family=\"Helvetica,sans-Serif\" font-size=\"14.00\" fill=\"#000000\">class = drugX</text>\n</g>\n<!-- 0&#45;&gt;1 -->\n<g id=\"edge1\" class=\"edge\">\n<title>0&#45;&gt;1</title>\n<path fill=\"none\" stroke=\"#000000\" d=\"M399.3229,-460.8796C392.4296,-451.9633 385.0798,-442.4565 377.9761,-433.268\"/>\n<polygon fill=\"#000000\" stroke=\"#000000\" points=\"380.6999,-431.0687 371.8145,-425.2981 375.1619,-435.3502 380.6999,-431.0687\"/>\n<text text-anchor=\"middle\" x=\"368.6413\" y=\"-446.3959\" font-family=\"Helvetica,sans-Serif\" font-size=\"14.00\" fill=\"#000000\">True</text>\n</g>\n<!-- 10 -->\n<g id=\"node11\" class=\"node\">\n<title>10</title>\n<path fill=\"#e539c0\" stroke=\"#000000\" d=\"M590,-417.5C590,-417.5 459,-417.5 459,-417.5 453,-417.5 447,-411.5 447,-405.5 447,-405.5 447,-361.5 447,-361.5 447,-355.5 453,-349.5 459,-349.5 459,-349.5 590,-349.5 590,-349.5 596,-349.5 602,-355.5 602,-361.5 602,-361.5 602,-405.5 602,-405.5 602,-411.5 596,-417.5 590,-417.5\"/>\n<text text-anchor=\"start\" x=\"482\" y=\"-402.3\" font-family=\"Helvetica,sans-Serif\" font-size=\"14.00\" fill=\"#000000\">entropy = 0.0</text>\n<text text-anchor=\"start\" x=\"480.5\" y=\"-387.3\" font-family=\"Helvetica,sans-Serif\" font-size=\"14.00\" fill=\"#000000\">samples = 80</text>\n<text text-anchor=\"start\" x=\"455\" y=\"-372.3\" font-family=\"Helvetica,sans-Serif\" font-size=\"14.00\" fill=\"#000000\">value = [0, 0, 0, 0, 80]</text>\n<text text-anchor=\"start\" x=\"480\" y=\"-357.3\" font-family=\"Helvetica,sans-Serif\" font-size=\"14.00\" fill=\"#000000\">class = drugY</text>\n</g>\n<!-- 0&#45;&gt;10 -->\n<g id=\"edge10\" class=\"edge\">\n<title>0&#45;&gt;10</title>\n<path fill=\"none\" stroke=\"#000000\" d=\"M464.0269,-460.8796C472.8783,-449.5536 482.4743,-437.2748 491.3593,-425.9058\"/>\n<polygon fill=\"#000000\" stroke=\"#000000\" points=\"494.2824,-427.8494 497.6824,-417.8149 488.7669,-423.539 494.2824,-427.8494\"/>\n<text text-anchor=\"middle\" x=\"500.7257\" y=\"-438.929\" font-family=\"Helvetica,sans-Serif\" font-size=\"14.00\" fill=\"#000000\">False</text>\n</g>\n<!-- 2 -->\n<g id=\"node3\" class=\"node\">\n<title>2</title>\n<path fill=\"#f6d3ba\" stroke=\"#000000\" d=\"M319,-306C319,-306 180,-306 180,-306 174,-306 168,-300 168,-294 168,-294 168,-235 168,-235 168,-229 174,-223 180,-223 180,-223 319,-223 319,-223 325,-223 331,-229 331,-235 331,-235 331,-294 331,-294 331,-300 325,-306 319,-306\"/>\n<text text-anchor=\"start\" x=\"214.5\" y=\"-290.8\" font-family=\"Helvetica,sans-Serif\" font-size=\"14.00\" fill=\"#000000\">Age ≤ 50.5</text>\n<text text-anchor=\"start\" x=\"198.5\" y=\"-275.8\" font-family=\"Helvetica,sans-Serif\" font-size=\"14.00\" fill=\"#000000\">entropy = 0.967</text>\n<text text-anchor=\"start\" x=\"205.5\" y=\"-260.8\" font-family=\"Helvetica,sans-Serif\" font-size=\"14.00\" fill=\"#000000\">samples = 33</text>\n<text text-anchor=\"start\" x=\"176\" y=\"-245.8\" font-family=\"Helvetica,sans-Serif\" font-size=\"14.00\" fill=\"#000000\">value = [20, 13, 0, 0, 0]</text>\n<text text-anchor=\"start\" x=\"205\" y=\"-230.8\" font-family=\"Helvetica,sans-Serif\" font-size=\"14.00\" fill=\"#000000\">class = drugA</text>\n</g>\n<!-- 1&#45;&gt;2 -->\n<g id=\"edge2\" class=\"edge\">\n<title>1&#45;&gt;2</title>\n<path fill=\"none\" stroke=\"#000000\" d=\"M308.0224,-341.8796C301.3471,-333.0534 294.2342,-323.6485 287.3504,-314.5466\"/>\n<polygon fill=\"#000000\" stroke=\"#000000\" points=\"289.9357,-312.1626 281.112,-306.2981 284.3526,-316.3852 289.9357,-312.1626\"/>\n</g>\n<!-- 5 -->\n<g id=\"node6\" class=\"node\">\n<title>5</title>\n<path fill=\"#7674ed\" stroke=\"#000000\" d=\"M500,-306C500,-306 361,-306 361,-306 355,-306 349,-300 349,-294 349,-294 349,-235 349,-235 349,-229 355,-223 361,-223 361,-223 500,-223 500,-223 506,-223 512,-229 512,-235 512,-235 512,-294 512,-294 512,-300 506,-306 500,-306\"/>\n<text text-anchor=\"start\" x=\"403\" y=\"-290.8\" font-family=\"Helvetica,sans-Serif\" font-size=\"14.00\" fill=\"#000000\">BP ≤ 1.5</text>\n<text text-anchor=\"start\" x=\"379.5\" y=\"-275.8\" font-family=\"Helvetica,sans-Serif\" font-size=\"14.00\" fill=\"#000000\">entropy = 0.775</text>\n<text text-anchor=\"start\" x=\"386.5\" y=\"-260.8\" font-family=\"Helvetica,sans-Serif\" font-size=\"14.00\" fill=\"#000000\">samples = 57</text>\n<text text-anchor=\"start\" x=\"357\" y=\"-245.8\" font-family=\"Helvetica,sans-Serif\" font-size=\"14.00\" fill=\"#000000\">value = [0, 0, 13, 44, 0]</text>\n<text text-anchor=\"start\" x=\"386\" y=\"-230.8\" font-family=\"Helvetica,sans-Serif\" font-size=\"14.00\" fill=\"#000000\">class = drugX</text>\n</g>\n<!-- 1&#45;&gt;5 -->\n<g id=\"edge5\" class=\"edge\">\n<title>1&#45;&gt;5</title>\n<path fill=\"none\" stroke=\"#000000\" d=\"M371.3274,-341.8796C378.1457,-332.9633 385.4156,-323.4565 392.4421,-314.268\"/>\n<polygon fill=\"#000000\" stroke=\"#000000\" points=\"395.2425,-316.3678 398.5368,-306.2981 389.682,-312.1156 395.2425,-316.3678\"/>\n</g>\n<!-- 3 -->\n<g id=\"node4\" class=\"node\">\n<title>3</title>\n<path fill=\"#e58139\" stroke=\"#000000\" d=\"M143,-179.5C143,-179.5 12,-179.5 12,-179.5 6,-179.5 0,-173.5 0,-167.5 0,-167.5 0,-123.5 0,-123.5 0,-117.5 6,-111.5 12,-111.5 12,-111.5 143,-111.5 143,-111.5 149,-111.5 155,-117.5 155,-123.5 155,-123.5 155,-167.5 155,-167.5 155,-173.5 149,-179.5 143,-179.5\"/>\n<text text-anchor=\"start\" x=\"35\" y=\"-164.3\" font-family=\"Helvetica,sans-Serif\" font-size=\"14.00\" fill=\"#000000\">entropy = 0.0</text>\n<text text-anchor=\"start\" x=\"33.5\" y=\"-149.3\" font-family=\"Helvetica,sans-Serif\" font-size=\"14.00\" fill=\"#000000\">samples = 20</text>\n<text text-anchor=\"start\" x=\"8\" y=\"-134.3\" font-family=\"Helvetica,sans-Serif\" font-size=\"14.00\" fill=\"#000000\">value = [20, 0, 0, 0, 0]</text>\n<text text-anchor=\"start\" x=\"33\" y=\"-119.3\" font-family=\"Helvetica,sans-Serif\" font-size=\"14.00\" fill=\"#000000\">class = drugA</text>\n</g>\n<!-- 2&#45;&gt;3 -->\n<g id=\"edge3\" class=\"edge\">\n<title>2&#45;&gt;3</title>\n<path fill=\"none\" stroke=\"#000000\" d=\"M189.3427,-222.8796C171.7766,-210.7263 152.6248,-197.4759 135.2136,-185.4297\"/>\n<polygon fill=\"#000000\" stroke=\"#000000\" points=\"137.0357,-182.4344 126.8207,-179.623 133.053,-188.191 137.0357,-182.4344\"/>\n</g>\n<!-- 4 -->\n<g id=\"node5\" class=\"node\">\n<title>4</title>\n<path fill=\"#7be539\" stroke=\"#000000\" d=\"M316,-179.5C316,-179.5 185,-179.5 185,-179.5 179,-179.5 173,-173.5 173,-167.5 173,-167.5 173,-123.5 173,-123.5 173,-117.5 179,-111.5 185,-111.5 185,-111.5 316,-111.5 316,-111.5 322,-111.5 328,-117.5 328,-123.5 328,-123.5 328,-167.5 328,-167.5 328,-173.5 322,-179.5 316,-179.5\"/>\n<text text-anchor=\"start\" x=\"208\" y=\"-164.3\" font-family=\"Helvetica,sans-Serif\" font-size=\"14.00\" fill=\"#000000\">entropy = 0.0</text>\n<text text-anchor=\"start\" x=\"206.5\" y=\"-149.3\" font-family=\"Helvetica,sans-Serif\" font-size=\"14.00\" fill=\"#000000\">samples = 13</text>\n<text text-anchor=\"start\" x=\"181\" y=\"-134.3\" font-family=\"Helvetica,sans-Serif\" font-size=\"14.00\" fill=\"#000000\">value = [0, 13, 0, 0, 0]</text>\n<text text-anchor=\"start\" x=\"206\" y=\"-119.3\" font-family=\"Helvetica,sans-Serif\" font-size=\"14.00\" fill=\"#000000\">class = drugB</text>\n</g>\n<!-- 2&#45;&gt;4 -->\n<g id=\"edge4\" class=\"edge\">\n<title>2&#45;&gt;4</title>\n<path fill=\"none\" stroke=\"#000000\" d=\"M249.8498,-222.8796C249.9394,-212.2134 250.0361,-200.7021 250.1269,-189.9015\"/>\n<polygon fill=\"#000000\" stroke=\"#000000\" points=\"253.6274,-189.844 250.2116,-179.8149 246.6276,-189.7851 253.6274,-189.844\"/>\n</g>\n<!-- 6 -->\n<g id=\"node7\" class=\"node\">\n<title>6</title>\n<path fill=\"#ffffff\" stroke=\"#000000\" d=\"M499,-187C499,-187 360,-187 360,-187 354,-187 348,-181 348,-175 348,-175 348,-116 348,-116 348,-110 354,-104 360,-104 360,-104 499,-104 499,-104 505,-104 511,-110 511,-116 511,-116 511,-175 511,-175 511,-181 505,-187 499,-187\"/>\n<text text-anchor=\"start\" x=\"375\" y=\"-171.8\" font-family=\"Helvetica,sans-Serif\" font-size=\"14.00\" fill=\"#000000\">Cholesterol ≤ 1.0</text>\n<text text-anchor=\"start\" x=\"387\" y=\"-156.8\" font-family=\"Helvetica,sans-Serif\" font-size=\"14.00\" fill=\"#000000\">entropy = 1.0</text>\n<text text-anchor=\"start\" x=\"385.5\" y=\"-141.8\" font-family=\"Helvetica,sans-Serif\" font-size=\"14.00\" fill=\"#000000\">samples = 26</text>\n<text text-anchor=\"start\" x=\"356\" y=\"-126.8\" font-family=\"Helvetica,sans-Serif\" font-size=\"14.00\" fill=\"#000000\">value = [0, 0, 13, 13, 0]</text>\n<text text-anchor=\"start\" x=\"384.5\" y=\"-111.8\" font-family=\"Helvetica,sans-Serif\" font-size=\"14.00\" fill=\"#000000\">class = drugC</text>\n</g>\n<!-- 5&#45;&gt;6 -->\n<g id=\"edge6\" class=\"edge\">\n<title>5&#45;&gt;6</title>\n<path fill=\"none\" stroke=\"#000000\" d=\"M430.1502,-222.8796C430.0814,-214.6838 430.0083,-205.9891 429.937,-197.5013\"/>\n<polygon fill=\"#000000\" stroke=\"#000000\" points=\"433.4352,-197.2683 429.8512,-187.2981 426.4355,-197.3272 433.4352,-197.2683\"/>\n</g>\n<!-- 9 -->\n<g id=\"node10\" class=\"node\">\n<title>9</title>\n<path fill=\"#3c39e5\" stroke=\"#000000\" d=\"M672,-179.5C672,-179.5 541,-179.5 541,-179.5 535,-179.5 529,-173.5 529,-167.5 529,-167.5 529,-123.5 529,-123.5 529,-117.5 535,-111.5 541,-111.5 541,-111.5 672,-111.5 672,-111.5 678,-111.5 684,-117.5 684,-123.5 684,-123.5 684,-167.5 684,-167.5 684,-173.5 678,-179.5 672,-179.5\"/>\n<text text-anchor=\"start\" x=\"564\" y=\"-164.3\" font-family=\"Helvetica,sans-Serif\" font-size=\"14.00\" fill=\"#000000\">entropy = 0.0</text>\n<text text-anchor=\"start\" x=\"562.5\" y=\"-149.3\" font-family=\"Helvetica,sans-Serif\" font-size=\"14.00\" fill=\"#000000\">samples = 31</text>\n<text text-anchor=\"start\" x=\"537\" y=\"-134.3\" font-family=\"Helvetica,sans-Serif\" font-size=\"14.00\" fill=\"#000000\">value = [0, 0, 0, 31, 0]</text>\n<text text-anchor=\"start\" x=\"562\" y=\"-119.3\" font-family=\"Helvetica,sans-Serif\" font-size=\"14.00\" fill=\"#000000\">class = drugX</text>\n</g>\n<!-- 5&#45;&gt;9 -->\n<g id=\"edge9\" class=\"edge\">\n<title>5&#45;&gt;9</title>\n<path fill=\"none\" stroke=\"#000000\" d=\"M492.0563,-222.8796C510.0309,-210.7263 529.6282,-197.4759 547.4442,-185.4297\"/>\n<polygon fill=\"#000000\" stroke=\"#000000\" points=\"549.7086,-188.1237 556.0323,-179.623 545.7877,-182.3248 549.7086,-188.1237\"/>\n</g>\n<!-- 7 -->\n<g id=\"node8\" class=\"node\">\n<title>7</title>\n<path fill=\"#39e5c5\" stroke=\"#000000\" d=\"M408,-68C408,-68 277,-68 277,-68 271,-68 265,-62 265,-56 265,-56 265,-12 265,-12 265,-6 271,0 277,0 277,0 408,0 408,0 414,0 420,-6 420,-12 420,-12 420,-56 420,-56 420,-62 414,-68 408,-68\"/>\n<text text-anchor=\"start\" x=\"300\" y=\"-52.8\" font-family=\"Helvetica,sans-Serif\" font-size=\"14.00\" fill=\"#000000\">entropy = 0.0</text>\n<text text-anchor=\"start\" x=\"298.5\" y=\"-37.8\" font-family=\"Helvetica,sans-Serif\" font-size=\"14.00\" fill=\"#000000\">samples = 13</text>\n<text text-anchor=\"start\" x=\"273\" y=\"-22.8\" font-family=\"Helvetica,sans-Serif\" font-size=\"14.00\" fill=\"#000000\">value = [0, 0, 13, 0, 0]</text>\n<text text-anchor=\"start\" x=\"297.5\" y=\"-7.8\" font-family=\"Helvetica,sans-Serif\" font-size=\"14.00\" fill=\"#000000\">class = drugC</text>\n</g>\n<!-- 6&#45;&gt;7 -->\n<g id=\"edge7\" class=\"edge\">\n<title>6&#45;&gt;7</title>\n<path fill=\"none\" stroke=\"#000000\" d=\"M397.1044,-103.9815C390.0766,-94.9747 382.6345,-85.4367 375.5807,-76.3965\"/>\n<polygon fill=\"#000000\" stroke=\"#000000\" points=\"378.146,-73.9946 369.2349,-68.2637 372.6272,-78.3008 378.146,-73.9946\"/>\n</g>\n<!-- 8 -->\n<g id=\"node9\" class=\"node\">\n<title>8</title>\n<path fill=\"#3c39e5\" stroke=\"#000000\" d=\"M581,-68C581,-68 450,-68 450,-68 444,-68 438,-62 438,-56 438,-56 438,-12 438,-12 438,-6 444,0 450,0 450,0 581,0 581,0 587,0 593,-6 593,-12 593,-12 593,-56 593,-56 593,-62 587,-68 581,-68\"/>\n<text text-anchor=\"start\" x=\"473\" y=\"-52.8\" font-family=\"Helvetica,sans-Serif\" font-size=\"14.00\" fill=\"#000000\">entropy = 0.0</text>\n<text text-anchor=\"start\" x=\"471.5\" y=\"-37.8\" font-family=\"Helvetica,sans-Serif\" font-size=\"14.00\" fill=\"#000000\">samples = 13</text>\n<text text-anchor=\"start\" x=\"446\" y=\"-22.8\" font-family=\"Helvetica,sans-Serif\" font-size=\"14.00\" fill=\"#000000\">value = [0, 0, 0, 13, 0]</text>\n<text text-anchor=\"start\" x=\"471\" y=\"-7.8\" font-family=\"Helvetica,sans-Serif\" font-size=\"14.00\" fill=\"#000000\">class = drugX</text>\n</g>\n<!-- 6&#45;&gt;8 -->\n<g id=\"edge8\" class=\"edge\">\n<title>6&#45;&gt;8</title>\n<path fill=\"none\" stroke=\"#000000\" d=\"M461.5232,-103.9815C468.4702,-94.9747 475.8269,-85.4367 482.7996,-76.3965\"/>\n<polygon fill=\"#000000\" stroke=\"#000000\" points=\"485.7364,-78.3196 489.0724,-68.2637 480.1936,-74.0444 485.7364,-78.3196\"/>\n</g>\n</g>\n</svg>\n"
          },
          "metadata": {},
          "execution_count": 10
        }
      ]
    }
  ]
}